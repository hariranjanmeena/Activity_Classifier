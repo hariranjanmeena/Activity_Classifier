{
 "cells": [
  {
   "cell_type": "code",
   "execution_count": 1,
   "id": "41eb2f12",
   "metadata": {},
   "outputs": [],
   "source": [
    "import os"
   ]
  },
  {
   "cell_type": "code",
   "execution_count": 2,
   "id": "fc33b0d0",
   "metadata": {},
   "outputs": [
    {
     "data": {
      "text/plain": [
       "['bending1', 'bending2', 'cycling', 'lying', 'sitting', 'standing', 'walking']"
      ]
     },
     "execution_count": 2,
     "metadata": {},
     "output_type": "execute_result"
    }
   ],
   "source": [
    "Classes = os.listdir('C:/Users/HP/Documents/ML projects/Project_Level_2/New folder (2)/Data/')"
   ]
  },
  {
   "cell_type": "code",
   "execution_count": 3,
   "id": "ff2caeaf",
   "metadata": {},
   "outputs": [],
   "source": [
    "import openpyxl "
   ]
  },
  {
   "cell_type": "code",
   "execution_count": null,
   "id": "add3f24d",
   "metadata": {},
   "outputs": [],
   "source": []
  }
 ],
 "metadata": {
  "kernelspec": {
   "display_name": "Python 3",
   "language": "python",
   "name": "python3"
  },
  "language_info": {
   "codemirror_mode": {
    "name": "ipython",
    "version": 3
   },
   "file_extension": ".py",
   "mimetype": "text/x-python",
   "name": "python",
   "nbconvert_exporter": "python",
   "pygments_lexer": "ipython3",
   "version": "3.8.8"
  }
 },
 "nbformat": 4,
 "nbformat_minor": 5
}
